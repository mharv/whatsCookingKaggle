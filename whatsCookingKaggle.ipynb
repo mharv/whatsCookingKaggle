{
 "cells": [
  {
   "cell_type": "code",
   "execution_count": 2,
   "metadata": {},
   "outputs": [],
   "source": [
    "#Picture yourself strolling through your local, open-air market... What do you see? \n",
    "#What do you smell? What will you make for dinner tonight? \n",
    " \n",
    "#If you're in Northern California, you'll be walking past the inevitable bushels of leafy greens, \n",
    "#spiked with dark purple kale and the bright pinks and yellows of chard. Across the world in South \n",
    "#Korea, mounds of bright red kimchi greet you, while the smell of the sea draws your attention to \n",
    "#squids squirming nearby. India’s market is perhaps the most colorful, awash in the rich hues and \n",
    "#aromas of dozens of spices: turmeric, star anise, poppy seeds, and garam masala as far as the eye can see. \n",
    "\n",
    "#Some of our strongest geographic and cultural associations are tied to a region's local foods. \n",
    "#This playground competitions asks you to predict the category of a dish's cuisine given a list \n",
    "#of its ingredients."
   ]
  },
  {
   "cell_type": "code",
   "execution_count": null,
   "metadata": {},
   "outputs": [],
   "source": []
  }
 ],
 "metadata": {
  "kernelspec": {
   "display_name": "Python 3",
   "language": "python",
   "name": "python3"
  },
  "language_info": {
   "codemirror_mode": {
    "name": "ipython",
    "version": 3
   },
   "file_extension": ".py",
   "mimetype": "text/x-python",
   "name": "python",
   "nbconvert_exporter": "python",
   "pygments_lexer": "ipython3",
   "version": "3.7.0"
  }
 },
 "nbformat": 4,
 "nbformat_minor": 2
}
